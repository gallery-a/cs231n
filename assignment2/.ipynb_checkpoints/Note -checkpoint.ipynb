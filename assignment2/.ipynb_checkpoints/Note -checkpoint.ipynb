{
 "cells": [
  {
   "cell_type": "code",
   "execution_count": 1,
   "metadata": {},
   "outputs": [
    {
     "name": "stdout",
     "output_type": "stream",
     "text": [
      "240\n"
     ]
    }
   ],
   "source": [
    "import numpy as np\n",
    "num_inputs = 2\n",
    "input_shape = (4, 5, 6)\n",
    "\n",
    "input_size = num_inputs * np.prod(input_shape)\n",
    "print(input_size)"
   ]
  },
  {
   "cell_type": "markdown",
   "metadata": {},
   "source": [
    "# np.linspace"
   ]
  },
  {
   "cell_type": "code",
   "execution_count": 5,
   "metadata": {},
   "outputs": [
    {
     "name": "stdout",
     "output_type": "stream",
     "text": [
      "[ 2.    2.25  2.5   2.75  3.  ]\n",
      "[ 2.   2.2  2.4  2.6  2.8]\n",
      "(array([ 2.  ,  2.25,  2.5 ,  2.75,  3.  ]), 0.25)\n"
     ]
    }
   ],
   "source": [
    "print(np.linspace(2.0, 3.0, num=5))\n",
    "print(np.linspace(2.0, 3.0, num=5, endpoint=False))\n",
    "print(np.linspace(2.0, 3.0, num=5, retstep=True))"
   ]
  },
  {
   "cell_type": "markdown",
   "metadata": {},
   "source": [
    "Graphical illustration:"
   ]
  },
  {
   "cell_type": "code",
   "execution_count": 7,
   "metadata": {},
   "outputs": [
    {
     "data": {
      "image/png": "[encoded data removed]",
      "text/plain": [
       "<matplotlib.figure.Figure at 0x7ff2638049b0>"
      ]
     },
     "metadata": {},
     "output_type": "display_data"
    }
   ],
   "source": [
    "import matplotlib.pyplot as plt\n",
    "import numpy as np\n",
    "N = 8\n",
    "y = np.zeros(N)\n",
    "x1 = np.linspace(0, 10, N, endpoint=True)\n",
    "x2 = np.linspace(0, 10, N, endpoint=False)\n",
    "plt.plot(x1, y, 'o')\n",
    "plt.plot(x2, y + 0.5, 'o')\n",
    "plt.ylim([-0.5, 1])\n",
    "plt.show()\n",
    "\n"
   ]
  },
  {
   "cell_type": "markdown",
   "metadata": {},
   "source": [
    "numpy.random.binomial\n",
    "\n",
    "numpy.random.binomial(n, p, size=None)\n",
    "Draw samples from a binomial distribution.\n",
    "\n",
    "Samples are drawn from a binomial distribution with specified parameters, n trials and p probability of success where n an integer >= 0 and p is in the interval [0,1]. (n may be input as a float, but it is truncated to an integer in use)\n",
    "二项分布"
   ]
  },
  {
   "cell_type": "code",
   "execution_count": 7,
   "metadata": {},
   "outputs": [
    {
     "name": "stdout",
     "output_type": "stream",
     "text": [
      "[[0 0 0 1]\n",
      " [0 1 0 1]\n",
      " [0 0 0 1]]\n"
     ]
    }
   ],
   "source": [
    "import  numpy as np\n",
    "n, p = 1, .4  # number of trials, probability of each trial\n",
    "s = np.random.binomial(n, p, (3,4))\n",
    "# result of flipping a coin 10 times, tested 1000 times.\n",
    "print(s)"
   ]
  },
  {
   "cell_type": "markdown",
   "metadata": {},
   "source": [
    "np.random.seed\n",
    "每次运行代码时设置相同的seed，则每次生成的随机数也相同，如果不设置seed，则每次生成的随机数都会不一样"
   ]
  },
  {
   "cell_type": "markdown",
   "metadata": {},
   "source": [
    "# numpy.pad\n",
    "numpy.pad(array,pad_width,mode,**kwargs)\n",
    "\n",
    "解释：\n",
    "第一个参数是待填充数组\n",
    "第二个参数是填充的形状，（2，3）表示前面两个，后面三个\n",
    "第三个参数是填充的方法\n",
    "填充方法：\n",
    "constant连续一样的值填充，有关于其填充值的参数。constant_values=（x, y）时前面用x填充，后面用y填充。缺参数是为0000。。。\n",
    "edge用边缘值填充\n",
    "linear_ramp边缘递减的填充方式\n",
    "maximum, mean, median, minimum分别用最大值、均值、中位数和最小值填充\n",
    "reflect, symmetric都是对称填充。前一个是关于边缘对称，后一个是关于边缘外的空气对称╮(╯▽╰)╭\n",
    "wrap用原数组后面的值填充前面，前面的值填充后面\n",
    "也可以有其他自定义的填充方法 "
   ]
  },
  {
   "cell_type": "code",
   "execution_count": 10,
   "metadata": {},
   "outputs": [
    {
     "name": "stdout",
     "output_type": "stream",
     "text": [
      "constant:[0 0 1 1 2 2 3 4 0 0 0]\n",
      "edge:  [1 1 1 1 2 2 3 4 4 4 4]\n",
      "linear_ramp:  [0 0 1 1 2 2 3 4 3 1 0]\n",
      "maximum:  [4 4 1 1 2 2 3 4 4 4 4]\n",
      "mean:  [2 2 1 1 2 2 3 4 2 2 2]\n",
      "median:  [2 2 1 1 2 2 3 4 2 2 2]\n",
      "minimum:  [1 1 1 1 2 2 3 4 1 1 1]\n",
      "reflect:  [2 1 1 1 2 2 3 4 3 2 2]\n",
      "symmetric:  [1 1 1 1 2 2 3 4 4 3 2]\n",
      "wrap:  [3 4 1 1 2 2 3 4 1 1 2]\n"
     ]
    }
   ],
   "source": [
    "import numpy as np\n",
    "arr1D = np.array([1, 1, 2, 2, 3, 4])\n",
    "'''不同的填充方法'''\n",
    "print ('constant:' + str(np.pad(arr1D, (2, 3), 'constant')))\n",
    "print ('edge:  ' + str(np.pad(arr1D, (2, 3), 'edge')))\n",
    "print ('linear_ramp:  ' + str(np.pad(arr1D, (2, 3), 'linear_ramp')))\n",
    "print ('maximum:  ' + str(np.pad(arr1D, (2, 3), 'maximum')))\n",
    "print ('mean:  ' + str(np.pad(arr1D, (2, 3), 'mean')))\n",
    "print ('median:  ' + str(np.pad(arr1D, (2, 3), 'median')))\n",
    "print ('minimum:  ' + str(np.pad(arr1D, (2, 3), 'minimum')))\n",
    "print ('reflect:  ' + str(np.pad(arr1D, (2, 3), 'reflect')))\n",
    "print ('symmetric:  ' + str(np.pad(arr1D, (2, 3), 'symmetric')))\n",
    "print ('wrap:  ' + str(np.pad(arr1D, (2, 3), 'wrap')))"
   ]
  },
  {
   "cell_type": "code",
   "execution_count": 19,
   "metadata": {},
   "outputs": [
    {
     "name": "stdout",
     "output_type": "stream",
     "text": [
      "constant:  \n",
      "[[[0 0 0 0 0 0 0 0 0 0]\n",
      "  [0 0 1 1 2 2 3 4 0 0]\n",
      "  [0 0 1 1 2 2 3 4 0 0]\n",
      "  [0 0 1 1 2 2 3 4 0 0]\n",
      "  [0 0 0 0 0 0 0 0 0 0]]\n",
      "\n",
      " [[0 0 0 0 0 0 0 0 0 0]\n",
      "  [0 0 0 1 2 3 4 5 0 0]\n",
      "  [0 0 0 1 2 3 4 5 0 0]\n",
      "  [0 0 0 1 2 3 4 5 0 0]\n",
      "  [0 0 0 0 0 0 0 0 0 0]]\n",
      "\n",
      " [[0 0 0 0 0 0 0 0 0 0]\n",
      "  [0 0 1 1 2 2 3 4 0 0]\n",
      "  [0 0 1 1 2 2 3 4 0 0]\n",
      "  [0 0 1 1 2 2 3 4 0 0]\n",
      "  [0 0 0 0 0 0 0 0 0 0]]]\n"
     ]
    }
   ],
   "source": [
    "import numpy as np\n",
    "arr3D = np.array([[[1, 1, 2, 2, 3, 4], [1, 1, 2, 2, 3, 4], [1, 1, 2, 2, 3, 4]], \n",
    "                  [[0, 1, 2, 3, 4, 5], [0, 1, 2, 3, 4, 5], [0, 1, 2, 3, 4, 5]], \n",
    "                  [[1, 1, 2, 2, 3, 4], [1, 1, 2, 2, 3, 4], [1, 1, 2, 2, 3, 4]]])\n",
    "'''对于多维数组'''\n",
    "print('constant:  \\n' + str(np.pad(arr3D, ((0, 0), (1, 1), (2, 2)), 'constant')))\n",
    "#print('edge:  \\n' + str(np.pad(arr3D, ((0, 0), (1, 1), (2, 2)), 'edge')))\n",
    "#print('linear_ramp:  \\n' + str(np.pad(arr3D, ((0, 0), (1, 1), (2, 2)), 'linear_ramp')))\n",
    "#print( 'maximum:  \\n' + str(np.pad(arr3D, ((0, 0), (1, 1), (2, 2)), 'maximum')))\n",
    "#print('mean:  \\n' + str(np.pad(arr3D, ((0, 0), (1, 1), (2, 2)), 'mean')))\n",
    "#print('median:  \\n' + str(np.pad(arr3D, ((0, 0), (1, 1), (2, 2)), 'median')))\n",
    "#print('minimum:  \\n' + str(np.pad(arr3D, ((0, 0), (1, 1), (2, 2)), 'minimum')))\n",
    "#print('reflect:  \\n' + str(np.pad(arr3D, ((0, 0), (1, 1), (2, 2)), 'reflect')))\n",
    "#print('symmetric:  \\n' + str(np.pad(arr3D, ((0, 0), (1, 1), (2, 2)), 'symmetric')))\n",
    "#print('wrap:  \\n' + str(np.pad(arr3D, ((0, 0), (1, 1), (2, 2)), 'wrap')))"
   ]
  },
  {
   "cell_type": "markdown",
   "metadata": {},
   "source": [
    "np中axis不仅仅可以用一个，可以用多个的组合"
   ]
  },
  {
   "cell_type": "code",
   "execution_count": 8,
   "metadata": {},
   "outputs": [
    {
     "name": "stdout",
     "output_type": "stream",
     "text": [
      "[[ 6  8 10]\n",
      " [10 12 14]]\n",
      "[16 20 24]\n",
      "60\n"
     ]
    }
   ],
   "source": [
    "import numpy as np\n",
    "a=np.array([[[1,2,3],[3,4,5]],[[5,6,7],[7,8,9]]])\n",
    "print(np.sum(a,axis=0))\n",
    "#print(np.sum(a,axis=1))\n",
    "#print(np.sum(a,axis=2))\n",
    "print(np.sum(a,axis=(0,1)))\n",
    "#print(np.sum(a,axis=(1,2)))\n",
    "print(np.sum(a,axis=(0,1,2)))\n"
   ]
  },
  {
   "cell_type": "markdown",
   "metadata": {},
   "source": [
    "dw[k ,: ,: ,:] += np.sum(x_pad_masked * (dout[:, k, i, j])[:, None, None, None], axis=0)"
   ]
  },
  {
   "cell_type": "code",
   "execution_count": 7,
   "metadata": {},
   "outputs": [
    {
     "name": "stdout",
     "output_type": "stream",
     "text": [
      "[[2 3]\n",
      " [4 5]\n",
      " [6 7]]\n",
      "[[2 3]\n",
      " [4 5]\n",
      " [6 7]]\n"
     ]
    }
   ],
   "source": [
    "import numpy as np\n",
    "a=np.array([[1,2],[3,4],[5,6]])\n",
    "b=np.array([1,1,1])\n",
    "out=np.array([[1,2],[3,4],[5,6]])\n",
    "for i in range(2):\n",
    "    a[:,i]+=b\n",
    "print(a)\n",
    "out+=(b)[:,None]\n",
    "print(out)"
   ]
  },
  {
   "cell_type": "markdown",
   "metadata": {},
   "source": [
    "# numpy.transpose\n",
    "\n",
    "numpy.transpose(a, axes=None)[source]\n",
    "Permute the dimensions of an array.\n",
    "\n",
    "Parameters:\t\n",
    "a : array_like\n",
    "Input array.\n",
    "axes : list of ints, optional\n",
    "By default, reverse the dimensions, otherwise permute the axes according to the values given.\n",
    "Returns:\t\n",
    "p : ndarray\n",
    "a with its axes permuted. A view is returned whenever possible."
   ]
  },
  {
   "cell_type": "code",
   "execution_count": 10,
   "metadata": {},
   "outputs": [
    {
     "name": "stdout",
     "output_type": "stream",
     "text": [
      "x is :\n",
      " [[0 1]\n",
      " [2 3]]\n",
      "transpose of x is :\n",
      " [[0 2]\n",
      " [1 3]]\n"
     ]
    }
   ],
   "source": [
    "x = np.arange(4).reshape((2,2))\n",
    "print(\"x is :\\n\",x)\n",
    "print(\"transpose of x is :\\n\",np.transpose(x))"
   ]
  },
  {
   "cell_type": "code",
   "execution_count": 4,
   "metadata": {},
   "outputs": [
    {
     "name": "stdout",
     "output_type": "stream",
     "text": [
      "0\n",
      "1\n",
      "2\n",
      "3\n",
      "5\n"
     ]
    }
   ],
   "source": [
    "k=5\n",
    "for x in range(k-1):\n",
    "    print(x)\n",
    "print(k)"
   ]
  },
  {
   "cell_type": "code",
   "execution_count": null,
   "metadata": {},
   "outputs": [],
   "source": []
  }
 ],
 "metadata": {
  "kernelspec": {
   "display_name": "Python 3",
   "language": "python",
   "name": "python3"
  },
  "language_info": {
   "codemirror_mode": {
    "name": "ipython",
    "version": 3
   },
   "file_extension": ".py",
   "mimetype": "text/x-python",
   "name": "python",
   "nbconvert_exporter": "python",
   "pygments_lexer": "ipython3",
   "version": "3.5.2"
  }
 },
 "nbformat": 4,
 "nbformat_minor": 2
}
