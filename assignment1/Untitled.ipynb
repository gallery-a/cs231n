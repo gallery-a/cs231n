{
 "cells": [
  {
   "cell_type": "code",
   "execution_count": 21,
   "metadata": {
    "collapsed": false
   },
   "outputs": [
    {
     "ename": "AttributeError",
     "evalue": "'numpy.ndarray' object has no attribute 'x'",
     "output_type": "error",
     "traceback": [
      "\u001b[0;31m---------------------------------------------------------------------------\u001b[0m",
      "\u001b[0;31mAttributeError\u001b[0m                            Traceback (most recent call last)",
      "\u001b[0;32m<ipython-input-21-58d44a049f08>\u001b[0m in \u001b[0;36m<module>\u001b[0;34m()\u001b[0m\n\u001b[1;32m      1\u001b[0m \u001b[0;32mimport\u001b[0m \u001b[0mnumpy\u001b[0m \u001b[0;32mas\u001b[0m \u001b[0mnp\u001b[0m\u001b[0;34m\u001b[0m\u001b[0m\n\u001b[1;32m      2\u001b[0m \u001b[0mx\u001b[0m \u001b[0;34m=\u001b[0m \u001b[0mnp\u001b[0m\u001b[0;34m.\u001b[0m\u001b[0marray\u001b[0m\u001b[0;34m(\u001b[0m\u001b[0;34m[\u001b[0m\u001b[0;36m1\u001b[0m\u001b[0;34m,\u001b[0m\u001b[0;36m2\u001b[0m\u001b[0;34m,\u001b[0m\u001b[0;36m3\u001b[0m\u001b[0;34m]\u001b[0m\u001b[0;34m)\u001b[0m\u001b[0;34m\u001b[0m\u001b[0m\n\u001b[0;32m----> 3\u001b[0;31m \u001b[0mtr\u001b[0m \u001b[0;34m=\u001b[0m \u001b[0mnp\u001b[0m\u001b[0;34m.\u001b[0m\u001b[0mdot\u001b[0m\u001b[0;34m(\u001b[0m\u001b[0mx\u001b[0m\u001b[0;34m.\u001b[0m\u001b[0mx\u001b[0m\u001b[0;34m)\u001b[0m\u001b[0;34m\u001b[0m\u001b[0m\n\u001b[0m\u001b[1;32m      4\u001b[0m \u001b[0mprint\u001b[0m\u001b[0;34m(\u001b[0m\u001b[0mtr\u001b[0m\u001b[0;34m)\u001b[0m\u001b[0;34m\u001b[0m\u001b[0m\n",
      "\u001b[0;31mAttributeError\u001b[0m: 'numpy.ndarray' object has no attribute 'x'"
     ]
    }
   ],
   "source": [
    "import numpy as np\n",
    "x = np.array([1,2,3])\n",
    "tr = np.dot(x.x)\n",
    "print(tr) "
   ]
  },
  {
   "cell_type": "code",
   "execution_count": 3,
   "metadata": {
    "collapsed": false
   },
   "outputs": [
    {
     "name": "stdout",
     "output_type": "stream",
     "text": [
      "[[ 44.55   6.6   39.6 ]\n",
      " [  6.24  68.64   0.  ]\n",
      " [  0.    53.46  46.98]\n",
      " [ 21.     0.    25.5 ]]\n"
     ]
    }
   ],
   "source": [
    "import numpy as np\n",
    "a = np.array([[27,4,24],[3,33,0],[0,33,29],[14,0,17]])\n",
    "b = np.array([[1.65,2.08,1.62,1.5],[1.65,2.08,1.62,1.5],[1.65,2.08,1.62,1.5]])\n",
    "c = np.multiply(a,b.T)\n",
    "print(c)"
   ]
  },
  {
   "cell_type": "code",
   "execution_count": null,
   "metadata": {
    "collapsed": true
   },
   "outputs": [],
   "source": [
    "import numpy as np\n",
    "a = np.array([[27,4,24],[3,33,0],[0,33,29],[14,0,17]])\n",
    "b = np.multiply(a,a)\n",
    "c = np.multiply(a,b.T)\n",
    "print(c)"
   ]
  },
  {
   "cell_type": "code",
   "execution_count": 9,
   "metadata": {
    "collapsed": false
   },
   "outputs": [
    {
     "name": "stdout",
     "output_type": "stream",
     "text": [
      "[ 934 2194 1706]\n",
      "[ 30.56141358  46.84015371  41.30375286]\n",
      "[[ 0.88346699  0.098163    0.          0.45809399]\n",
      " [ 0.08539682  0.70452373  0.70452373  0.        ]\n",
      " [ 0.581061    0.          0.70211538  0.41158488]]\n"
     ]
    }
   ],
   "source": [
    "import numpy as np\n",
    "a = np.array([[27,4,24],[3,33,0],[0,33,29],[14,0,17]])\n",
    "b = np.sum(np.multiply(a,a),axis = 0)\n",
    "c = np.sqrt(np.sum(np.multiply(a,a),axis = 0))\n",
    "d = a/c\n",
    "print(b)\n",
    "print(c)\n",
    "print(d.T)"
   ]
  },
  {
   "cell_type": "code",
   "execution_count": 11,
   "metadata": {
    "collapsed": false
   },
   "outputs": [
    {
     "name": "stdout",
     "output_type": "stream",
     "text": [
      "Doc1xDoc2: [ 0.0792  0.071   0.      0.    ]\n",
      "Doc2xDoc3: [ 0.0522  0.      0.497   0.    ]\n",
      "Doc1xDoc3: [ 0.5104  0.      0.      0.1886]\n",
      "************************\n",
      "Doc1xDoc2: 0.1502\n",
      "Doc2xDoc3: 0.5492\n",
      "Doc1xDoc3: 0.699\n"
     ]
    }
   ],
   "source": [
    "import numpy as np\n",
    "Doc1 = np.array([0.88, 0.10, 0, 0.46])\n",
    "Doc2 = np.array([0.09, 0.71,  0.71, 0])\n",
    "Doc3 = np.array([0.58, 0, 0.7, 0.41])\n",
    "print(\"Doc1xDoc2:\",Doc1* Doc2)\n",
    "print(\"Doc2xDoc3:\",Doc2* Doc3)\n",
    "print(\"Doc1xDoc3:\",Doc1* Doc3)\n",
    "print(\"************************\")\n",
    "print(\"Doc1xDoc2:\",np.sum(Doc1* Doc2))\n",
    "print(\"Doc2xDoc3:\",np.sum(Doc2* Doc3))\n",
    "print(\"Doc1xDoc3:\",np.sum(Doc1* Doc3))"
   ]
  },
  {
   "cell_type": "code",
   "execution_count": 3,
   "metadata": {
    "collapsed": false
   },
   "outputs": [
    {
     "name": "stdout",
     "output_type": "stream",
     "text": [
      "2 3\n"
     ]
    }
   ],
   "source": [
    "import numpy as np\n",
    "A = np.array([[1,3,4],[2,5,8]])\n",
    "m,n = A.shape\n",
    "print(m,n)"
   ]
  },
  {
   "cell_type": "code",
   "execution_count": 4,
   "metadata": {
    "collapsed": false
   },
   "outputs": [
    {
     "name": "stdout",
     "output_type": "stream",
     "text": [
      "[[ 0.61407212  1.33566559]\n",
      " [ 0.39285896  0.26775394]\n",
      " [-1.42785213 -1.17145392]]\n"
     ]
    }
   ],
   "source": [
    "import numpy as np\n",
    "A = np.random.randn(3,2)\n",
    "print(A)"
   ]
  },
  {
   "cell_type": "code",
   "execution_count": null,
   "metadata": {
    "collapsed": true
   },
   "outputs": [],
   "source": []
  }
 ],
 "metadata": {
  "kernelspec": {
   "display_name": "Python 3",
   "language": "python",
   "name": "python3"
  },
  "language_info": {
   "codemirror_mode": {
    "name": "ipython",
    "version": 3
   },
   "file_extension": ".py",
   "mimetype": "text/x-python",
   "name": "python",
   "nbconvert_exporter": "python",
   "pygments_lexer": "ipython3",
   "version": "3.5.2"
  }
 },
 "nbformat": 4,
 "nbformat_minor": 0
}
